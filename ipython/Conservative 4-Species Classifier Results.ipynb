{
 "cells": [
  {
   "cell_type": "code",
   "execution_count": 23,
   "metadata": {
    "collapsed": true
   },
   "outputs": [],
   "source": [
    "import numpy as np\n",
    "import pandas as pd"
   ]
  },
  {
   "cell_type": "markdown",
   "metadata": {},
   "source": [
    "### Show assigned class counts for each true class.\n",
    "\n",
    "During a cross validation phase of classifier construction, each example clip serves once as test data for a classifier that did not see the example during training. The counts in the table below tally these classifications. There is one row in the table for each true class and one column for each possible assigned class. Each number in the table is the number of clips of the true class to the left that were assigned to the class above."
   ]
  },
  {
   "cell_type": "code",
   "execution_count": 24,
   "metadata": {
    "collapsed": false
   },
   "outputs": [],
   "source": [
    "counts = np.array([\n",
    "    [467, 0, 2, 4, 314],\n",
    "    [2, 42, 0, 2, 99],\n",
    "    [24, 0, 83, 0, 185],\n",
    "    [5, 1, 0, 866, 297],\n",
    "    [90, 3, 14, 138, 2729]\n",
    "])\n",
    "names = ['Call.CHSP', 'Call.SAVS', 'Call.WCSP', 'Call.WIWA']\n",
    "true_names = names + ['Other']\n",
    "assigned_names = names + ['Unclassified']\n",
    "counts = pd.DataFrame(counts, index=true_names, columns=assigned_names)"
   ]
  },
  {
   "cell_type": "code",
   "execution_count": 25,
   "metadata": {
    "collapsed": false
   },
   "outputs": [
    {
     "data": {
      "text/html": [
       "<div>\n",
       "<table border=\"1\" class=\"dataframe\">\n",
       "  <thead>\n",
       "    <tr style=\"text-align: right;\">\n",
       "      <th></th>\n",
       "      <th>Call.CHSP</th>\n",
       "      <th>Call.SAVS</th>\n",
       "      <th>Call.WCSP</th>\n",
       "      <th>Call.WIWA</th>\n",
       "      <th>Unclassified</th>\n",
       "    </tr>\n",
       "  </thead>\n",
       "  <tbody>\n",
       "    <tr>\n",
       "      <th>Call.CHSP</th>\n",
       "      <td>467</td>\n",
       "      <td>0</td>\n",
       "      <td>2</td>\n",
       "      <td>4</td>\n",
       "      <td>314</td>\n",
       "    </tr>\n",
       "    <tr>\n",
       "      <th>Call.SAVS</th>\n",
       "      <td>2</td>\n",
       "      <td>42</td>\n",
       "      <td>0</td>\n",
       "      <td>2</td>\n",
       "      <td>99</td>\n",
       "    </tr>\n",
       "    <tr>\n",
       "      <th>Call.WCSP</th>\n",
       "      <td>24</td>\n",
       "      <td>0</td>\n",
       "      <td>83</td>\n",
       "      <td>0</td>\n",
       "      <td>185</td>\n",
       "    </tr>\n",
       "    <tr>\n",
       "      <th>Call.WIWA</th>\n",
       "      <td>5</td>\n",
       "      <td>1</td>\n",
       "      <td>0</td>\n",
       "      <td>866</td>\n",
       "      <td>297</td>\n",
       "    </tr>\n",
       "    <tr>\n",
       "      <th>Other</th>\n",
       "      <td>90</td>\n",
       "      <td>3</td>\n",
       "      <td>14</td>\n",
       "      <td>138</td>\n",
       "      <td>2729</td>\n",
       "    </tr>\n",
       "  </tbody>\n",
       "</table>\n",
       "</div>"
      ],
      "text/plain": [
       "           Call.CHSP  Call.SAVS  Call.WCSP  Call.WIWA  Unclassified\n",
       "Call.CHSP        467          0          2          4           314\n",
       "Call.SAVS          2         42          0          2            99\n",
       "Call.WCSP         24          0         83          0           185\n",
       "Call.WIWA          5          1          0        866           297\n",
       "Other             90          3         14        138          2729"
      ]
     },
     "execution_count": 25,
     "metadata": {},
     "output_type": "execute_result"
    }
   ],
   "source": [
    "counts"
   ]
  },
  {
   "cell_type": "code",
   "execution_count": 26,
   "metadata": {
    "collapsed": false
   },
   "outputs": [],
   "source": [
    "c = np.array(counts.values, dtype='float')"
   ]
  },
  {
   "cell_type": "code",
   "execution_count": 27,
   "metadata": {
    "collapsed": true
   },
   "outputs": [],
   "source": [
    "def _get_rounded_percents(counts, totals):\n",
    "    percents = 100. * (counts.T / totals).T\n",
    "    return np.round(percents * 10) / 10"
   ]
  },
  {
   "cell_type": "markdown",
   "metadata": {},
   "source": [
    "### Show percentages of unclassified clips for each true class.\n",
    "\n",
    "This classifier is called *conservative* because is leaves many clips unclassified. The table below shows the percentage of clips of each true class that the cross validation classifiers declined to classify."
   ]
  },
  {
   "cell_type": "code",
   "execution_count": 28,
   "metadata": {
    "collapsed": false
   },
   "outputs": [],
   "source": [
    "unclassified_counts = c[:, -1]\n",
    "totals = c.sum(axis=1)\n",
    "percents = _get_rounded_percents(unclassified_counts, totals)\n",
    "percents = pd.DataFrame(percents, index=true_names, columns=['Unclassified'])"
   ]
  },
  {
   "cell_type": "code",
   "execution_count": 29,
   "metadata": {
    "collapsed": false
   },
   "outputs": [
    {
     "data": {
      "text/html": [
       "<div>\n",
       "<table border=\"1\" class=\"dataframe\">\n",
       "  <thead>\n",
       "    <tr style=\"text-align: right;\">\n",
       "      <th></th>\n",
       "      <th>Unclassified</th>\n",
       "    </tr>\n",
       "  </thead>\n",
       "  <tbody>\n",
       "    <tr>\n",
       "      <th>Call.CHSP</th>\n",
       "      <td>39.9</td>\n",
       "    </tr>\n",
       "    <tr>\n",
       "      <th>Call.SAVS</th>\n",
       "      <td>68.3</td>\n",
       "    </tr>\n",
       "    <tr>\n",
       "      <th>Call.WCSP</th>\n",
       "      <td>63.4</td>\n",
       "    </tr>\n",
       "    <tr>\n",
       "      <th>Call.WIWA</th>\n",
       "      <td>25.4</td>\n",
       "    </tr>\n",
       "    <tr>\n",
       "      <th>Other</th>\n",
       "      <td>91.8</td>\n",
       "    </tr>\n",
       "  </tbody>\n",
       "</table>\n",
       "</div>"
      ],
      "text/plain": [
       "           Unclassified\n",
       "Call.CHSP          39.9\n",
       "Call.SAVS          68.3\n",
       "Call.WCSP          63.4\n",
       "Call.WIWA          25.4\n",
       "Other              91.8"
      ]
     },
     "execution_count": 29,
     "metadata": {},
     "output_type": "execute_result"
    }
   ],
   "source": [
    "percents"
   ]
  },
  {
   "cell_type": "markdown",
   "metadata": {},
   "source": [
    "### Disregarding unclassified clips, show assigned class percentages for each true class.\n",
    "\n",
    "There is one row in the table below for each true class and one column for each assigned class. Each number in the table is the percentage of clips of the true class to the left that were assigned to the class above. The percentages in each row sum to 100 (or about 100, since the percentages are rounded to the nearest tenth)."
   ]
  },
  {
   "cell_type": "code",
   "execution_count": 30,
   "metadata": {
    "collapsed": false
   },
   "outputs": [],
   "source": [
    "assigned_counts = c[:, :-1]\n",
    "totals = assigned_counts.sum(axis=1)\n",
    "percents = _get_rounded_percents(assigned_counts, totals)\n",
    "percents = pd.DataFrame(percents, index=true_names, columns=assigned_names[:-1])"
   ]
  },
  {
   "cell_type": "code",
   "execution_count": 31,
   "metadata": {
    "collapsed": false
   },
   "outputs": [
    {
     "data": {
      "text/html": [
       "<div>\n",
       "<table border=\"1\" class=\"dataframe\">\n",
       "  <thead>\n",
       "    <tr style=\"text-align: right;\">\n",
       "      <th></th>\n",
       "      <th>Call.CHSP</th>\n",
       "      <th>Call.SAVS</th>\n",
       "      <th>Call.WCSP</th>\n",
       "      <th>Call.WIWA</th>\n",
       "    </tr>\n",
       "  </thead>\n",
       "  <tbody>\n",
       "    <tr>\n",
       "      <th>Call.CHSP</th>\n",
       "      <td>98.7</td>\n",
       "      <td>0.0</td>\n",
       "      <td>0.4</td>\n",
       "      <td>0.8</td>\n",
       "    </tr>\n",
       "    <tr>\n",
       "      <th>Call.SAVS</th>\n",
       "      <td>4.3</td>\n",
       "      <td>91.3</td>\n",
       "      <td>0.0</td>\n",
       "      <td>4.3</td>\n",
       "    </tr>\n",
       "    <tr>\n",
       "      <th>Call.WCSP</th>\n",
       "      <td>22.4</td>\n",
       "      <td>0.0</td>\n",
       "      <td>77.6</td>\n",
       "      <td>0.0</td>\n",
       "    </tr>\n",
       "    <tr>\n",
       "      <th>Call.WIWA</th>\n",
       "      <td>0.6</td>\n",
       "      <td>0.1</td>\n",
       "      <td>0.0</td>\n",
       "      <td>99.3</td>\n",
       "    </tr>\n",
       "    <tr>\n",
       "      <th>Other</th>\n",
       "      <td>36.7</td>\n",
       "      <td>1.2</td>\n",
       "      <td>5.7</td>\n",
       "      <td>56.3</td>\n",
       "    </tr>\n",
       "  </tbody>\n",
       "</table>\n",
       "</div>"
      ],
      "text/plain": [
       "           Call.CHSP  Call.SAVS  Call.WCSP  Call.WIWA\n",
       "Call.CHSP       98.7        0.0        0.4        0.8\n",
       "Call.SAVS        4.3       91.3        0.0        4.3\n",
       "Call.WCSP       22.4        0.0       77.6        0.0\n",
       "Call.WIWA        0.6        0.1        0.0       99.3\n",
       "Other           36.7        1.2        5.7       56.3"
      ]
     },
     "execution_count": 31,
     "metadata": {},
     "output_type": "execute_result"
    }
   ],
   "source": [
    "percents"
   ]
  },
  {
   "cell_type": "markdown",
   "metadata": {},
   "source": [
    "### Show true class percentages for each assigned class.\n",
    "\n",
    "There is one row in the table below for each assigned class and one column for each true class. Each number in the table is the percentage of clips assigned to the class to the left that are in fact of the true class above. The percentages in each row sum to 100 (or about 100, since the percentages are rounded to the nearest tenth).\n",
    "\n",
    "This table is probably more telling than the previous one about the potential utility of the classifier. Each diagonal entry tells you the percentage of clips assigned to a class (i.e. the one to the left of the entry) by the cross validation classifiers that were truly of that class, and the off-diagonal entries give the percentages of clips assigned to a class that were actually of different classes. These are the approximate correct and incorrect classification rates that one might expect to see when browsing classified clips, assuming that the classifier generalizes well."
   ]
  },
  {
   "cell_type": "code",
   "execution_count": 32,
   "metadata": {
    "collapsed": true
   },
   "outputs": [],
   "source": [
    "true_counts = c.T\n",
    "totals = true_counts.sum(axis=1)\n",
    "percents = _get_rounded_percents(true_counts, totals)\n",
    "percents = pd.DataFrame(percents, index=assigned_names, columns=true_names)"
   ]
  },
  {
   "cell_type": "code",
   "execution_count": 33,
   "metadata": {
    "collapsed": false
   },
   "outputs": [
    {
     "data": {
      "text/html": [
       "<div>\n",
       "<table border=\"1\" class=\"dataframe\">\n",
       "  <thead>\n",
       "    <tr style=\"text-align: right;\">\n",
       "      <th></th>\n",
       "      <th>Call.CHSP</th>\n",
       "      <th>Call.SAVS</th>\n",
       "      <th>Call.WCSP</th>\n",
       "      <th>Call.WIWA</th>\n",
       "      <th>Other</th>\n",
       "    </tr>\n",
       "  </thead>\n",
       "  <tbody>\n",
       "    <tr>\n",
       "      <th>Call.CHSP</th>\n",
       "      <td>79.4</td>\n",
       "      <td>0.3</td>\n",
       "      <td>4.1</td>\n",
       "      <td>0.9</td>\n",
       "      <td>15.3</td>\n",
       "    </tr>\n",
       "    <tr>\n",
       "      <th>Call.SAVS</th>\n",
       "      <td>0.0</td>\n",
       "      <td>91.3</td>\n",
       "      <td>0.0</td>\n",
       "      <td>2.2</td>\n",
       "      <td>6.5</td>\n",
       "    </tr>\n",
       "    <tr>\n",
       "      <th>Call.WCSP</th>\n",
       "      <td>2.0</td>\n",
       "      <td>0.0</td>\n",
       "      <td>83.8</td>\n",
       "      <td>0.0</td>\n",
       "      <td>14.1</td>\n",
       "    </tr>\n",
       "    <tr>\n",
       "      <th>Call.WIWA</th>\n",
       "      <td>0.4</td>\n",
       "      <td>0.2</td>\n",
       "      <td>0.0</td>\n",
       "      <td>85.7</td>\n",
       "      <td>13.7</td>\n",
       "    </tr>\n",
       "    <tr>\n",
       "      <th>Unclassified</th>\n",
       "      <td>8.7</td>\n",
       "      <td>2.7</td>\n",
       "      <td>5.1</td>\n",
       "      <td>8.2</td>\n",
       "      <td>75.3</td>\n",
       "    </tr>\n",
       "  </tbody>\n",
       "</table>\n",
       "</div>"
      ],
      "text/plain": [
       "              Call.CHSP  Call.SAVS  Call.WCSP  Call.WIWA  Other\n",
       "Call.CHSP          79.4        0.3        4.1        0.9   15.3\n",
       "Call.SAVS           0.0       91.3        0.0        2.2    6.5\n",
       "Call.WCSP           2.0        0.0       83.8        0.0   14.1\n",
       "Call.WIWA           0.4        0.2        0.0       85.7   13.7\n",
       "Unclassified        8.7        2.7        5.1        8.2   75.3"
      ]
     },
     "execution_count": 33,
     "metadata": {},
     "output_type": "execute_result"
    }
   ],
   "source": [
    "percents"
   ]
  },
  {
   "cell_type": "code",
   "execution_count": null,
   "metadata": {
    "collapsed": true
   },
   "outputs": [],
   "source": []
  }
 ],
 "metadata": {
  "kernelspec": {
   "display_name": "Python 2",
   "language": "python",
   "name": "python2"
  },
  "language_info": {
   "codemirror_mode": {
    "name": "ipython",
    "version": 2
   },
   "file_extension": ".py",
   "mimetype": "text/x-python",
   "name": "python",
   "nbconvert_exporter": "python",
   "pygments_lexer": "ipython2",
   "version": "2.7.11"
  }
 },
 "nbformat": 4,
 "nbformat_minor": 0
}
