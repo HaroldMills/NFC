{
 "cells": [
  {
   "cell_type": "code",
   "execution_count": 1,
   "metadata": {
    "collapsed": true
   },
   "outputs": [],
   "source": [
    "import pandas as pd\n",
    "\n",
    "import vesper.util.jupyter_notebook_utils as jupyter_notebook_utils\n",
    "\n",
    "%matplotlib inline"
   ]
  },
  {
   "cell_type": "markdown",
   "metadata": {},
   "source": [
    "### Read `DataFrame` from pickle file."
   ]
  },
  {
   "cell_type": "code",
   "execution_count": 2,
   "metadata": {
    "collapsed": true
   },
   "outputs": [],
   "source": [
    "file_path = r'C:\\Users\\Harold\\Desktop\\NFC\\Data\\MPG Ranch\\Thrush Classifier Segment Results.pkl'\n",
    "segments = pd.read_pickle(file_path)"
   ]
  },
  {
   "cell_type": "code",
   "execution_count": 3,
   "metadata": {
    "collapsed": false
   },
   "outputs": [
    {
     "data": {
      "text/html": [
       "<div>\n",
       "<table border=\"1\" class=\"dataframe\">\n",
       "  <thead>\n",
       "    <tr style=\"text-align: right;\">\n",
       "      <th></th>\n",
       "      <th>fold</th>\n",
       "      <th>percent</th>\n",
       "      <th>segment_type</th>\n",
       "      <th>station</th>\n",
       "      <th>detector</th>\n",
       "      <th>start_time</th>\n",
       "      <th>spectra</th>\n",
       "      <th>features</th>\n",
       "      <th>target</th>\n",
       "      <th>prediction</th>\n",
       "    </tr>\n",
       "  </thead>\n",
       "  <tbody>\n",
       "    <tr>\n",
       "      <th>0</th>\n",
       "      <td>1</td>\n",
       "      <td>10</td>\n",
       "      <td>Training</td>\n",
       "      <td>Floodplain NFC</td>\n",
       "      <td>Thrush</td>\n",
       "      <td>2014-10-16 06:46:34+00:00</td>\n",
       "      <td>[[111.579, 122.015, 119.151, 127.989, 127.747,...</td>\n",
       "      <td>[0.0830587, 0.0908279, 0.0886958, 0.0952749, 0...</td>\n",
       "      <td>0</td>\n",
       "      <td>0</td>\n",
       "    </tr>\n",
       "    <tr>\n",
       "      <th>1</th>\n",
       "      <td>1</td>\n",
       "      <td>10</td>\n",
       "      <td>Training</td>\n",
       "      <td>Ridge</td>\n",
       "      <td>Thrush</td>\n",
       "      <td>2014-09-02 12:10:27+00:00</td>\n",
       "      <td>[[124.374, 123.436, 115.752, 206.998, 219.91, ...</td>\n",
       "      <td>[0.0746583, 0.0740954, 0.069483, 0.124256, 0.1...</td>\n",
       "      <td>1</td>\n",
       "      <td>1</td>\n",
       "    </tr>\n",
       "    <tr>\n",
       "      <th>2</th>\n",
       "      <td>1</td>\n",
       "      <td>10</td>\n",
       "      <td>Training</td>\n",
       "      <td>Ridge</td>\n",
       "      <td>Thrush</td>\n",
       "      <td>2014-09-21 12:38:08+00:00</td>\n",
       "      <td>[[128.907, 121.657, 106.629, 154.235, 189.679,...</td>\n",
       "      <td>[0.0844017, 0.0796548, 0.0698154, 0.100985, 0....</td>\n",
       "      <td>1</td>\n",
       "      <td>1</td>\n",
       "    </tr>\n",
       "    <tr>\n",
       "      <th>3</th>\n",
       "      <td>1</td>\n",
       "      <td>10</td>\n",
       "      <td>Training</td>\n",
       "      <td>Sheep Camp</td>\n",
       "      <td>Thrush</td>\n",
       "      <td>2013-08-31 12:12:09+00:00</td>\n",
       "      <td>[[136.215, 101.027, 73.2842, 170.036, 216.509,...</td>\n",
       "      <td>[0.0864804, 0.0641397, 0.0465267, 0.107953, 0....</td>\n",
       "      <td>1</td>\n",
       "      <td>1</td>\n",
       "    </tr>\n",
       "    <tr>\n",
       "      <th>4</th>\n",
       "      <td>1</td>\n",
       "      <td>10</td>\n",
       "      <td>Training</td>\n",
       "      <td>Floodplain NFC</td>\n",
       "      <td>Thrush</td>\n",
       "      <td>2014-08-31 06:26:28+00:00</td>\n",
       "      <td>[[229.903, 198.87, 222.261, 207.778, 194.648, ...</td>\n",
       "      <td>[0.113346, 0.0980463, 0.109579, 0.102438, 0.09...</td>\n",
       "      <td>0</td>\n",
       "      <td>0</td>\n",
       "    </tr>\n",
       "  </tbody>\n",
       "</table>\n",
       "</div>"
      ],
      "text/plain": [
       "   fold  percent segment_type         station detector  \\\n",
       "0     1       10     Training  Floodplain NFC   Thrush   \n",
       "1     1       10     Training           Ridge   Thrush   \n",
       "2     1       10     Training           Ridge   Thrush   \n",
       "3     1       10     Training      Sheep Camp   Thrush   \n",
       "4     1       10     Training  Floodplain NFC   Thrush   \n",
       "\n",
       "                  start_time  \\\n",
       "0  2014-10-16 06:46:34+00:00   \n",
       "1  2014-09-02 12:10:27+00:00   \n",
       "2  2014-09-21 12:38:08+00:00   \n",
       "3  2013-08-31 12:12:09+00:00   \n",
       "4  2014-08-31 06:26:28+00:00   \n",
       "\n",
       "                                             spectra  \\\n",
       "0  [[111.579, 122.015, 119.151, 127.989, 127.747,...   \n",
       "1  [[124.374, 123.436, 115.752, 206.998, 219.91, ...   \n",
       "2  [[128.907, 121.657, 106.629, 154.235, 189.679,...   \n",
       "3  [[136.215, 101.027, 73.2842, 170.036, 216.509,...   \n",
       "4  [[229.903, 198.87, 222.261, 207.778, 194.648, ...   \n",
       "\n",
       "                                            features  target  prediction  \n",
       "0  [0.0830587, 0.0908279, 0.0886958, 0.0952749, 0...       0           0  \n",
       "1  [0.0746583, 0.0740954, 0.069483, 0.124256, 0.1...       1           1  \n",
       "2  [0.0844017, 0.0796548, 0.0698154, 0.100985, 0....       1           1  \n",
       "3  [0.0864804, 0.0641397, 0.0465267, 0.107953, 0....       1           1  \n",
       "4  [0.113346, 0.0980463, 0.109579, 0.102438, 0.09...       0           0  "
      ]
     },
     "execution_count": 3,
     "metadata": {},
     "output_type": "execute_result"
    }
   ],
   "source": [
    "segments.head()"
   ]
  },
  {
   "cell_type": "markdown",
   "metadata": {},
   "source": [
    "### Show some spectrograms."
   ]
  },
  {
   "cell_type": "code",
   "execution_count": 4,
   "metadata": {
    "collapsed": false
   },
   "outputs": [],
   "source": [
    "def show_segments(\n",
    "        segments, page_num, target, prediction, segment_type='Test', page_width=10, page_height=10):\n",
    "    \n",
    "    segments = segments[\n",
    "        (segments['segment_type'] == segment_type) & \\\n",
    "        (segments['target'] == target) & \\\n",
    "        (segments['prediction'] == prediction)]\n",
    "    \n",
    "    grams = segments['spectra']\n",
    "    \n",
    "    jupyter_notebook_utils.show_grams(grams, page_num, page_width, page_height)"
   ]
  },
  {
   "cell_type": "code",
   "execution_count": 6,
   "metadata": {
    "collapsed": false
   },
   "outputs": [
    {
     "name": "stdout",
     "output_type": "stream",
     "text": [
      "Page 10 of 10, grams 901 to 1000 of 949\n"
     ]
    },
    {
     "data": {
      "image/png": "[encoded data removed]",
      "text/plain": [
       "<matplotlib.figure.Figure at 0xb30a0f0>"
      ]
     },
     "metadata": {},
     "output_type": "display_data"
    }
   ],
   "source": [
    "show_segments(segments, page_num=10, target=1, prediction=0)"
   ]
  },
  {
   "cell_type": "code",
   "execution_count": null,
   "metadata": {
    "collapsed": true
   },
   "outputs": [],
   "source": []
  }
 ],
 "metadata": {
  "kernelspec": {
   "display_name": "Python 2",
   "language": "python",
   "name": "python2"
  },
  "language_info": {
   "codemirror_mode": {
    "name": "ipython",
    "version": 2
   },
   "file_extension": ".py",
   "mimetype": "text/x-python",
   "name": "python",
   "nbconvert_exporter": "python",
   "pygments_lexer": "ipython2",
   "version": "2.7.11"
  }
 },
 "nbformat": 4,
 "nbformat_minor": 0
}
