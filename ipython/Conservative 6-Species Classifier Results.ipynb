{
 "cells": [
  {
   "cell_type": "code",
   "execution_count": 1,
   "metadata": {
    "collapsed": true
   },
   "outputs": [],
   "source": [
    "import numpy as np\n",
    "import pandas as pd"
   ]
  },
  {
   "cell_type": "markdown",
   "metadata": {},
   "source": [
    "### Show assigned class counts for each true class.\n",
    "\n",
    "During a cross validation phase of classifier construction, each example clip serves once as test data for a classifier that did not see the example during training. The counts in the table below tally these classifications. There is one row in the table for each true class and one column for each possible assigned class. Each number in the table is the number of clips of the true class to the left that were assigned to the class above."
   ]
  },
  {
   "cell_type": "code",
   "execution_count": 2,
   "metadata": {
    "collapsed": false
   },
   "outputs": [],
   "source": [
    "counts = np.array([\n",
    "    [465, 0, 0, 0, 2, 4, 316],\n",
    "    [13, 0, 0, 0, 4, 36, 859],\n",
    "    [2, 0, 43, 0, 0, 2, 98],\n",
    "    [10, 0, 0, 4, 5, 2, 238],\n",
    "    [23, 0, 0, 0, 76, 0, 193],\n",
    "    [5, 0, 1, 0, 0, 875, 288],\n",
    "    [75, 0, 4, 0, 4, 94, 1626]\n",
    "])\n",
    "names = ['Call.CHSP', 'Call.DoubleUp', 'Call.SAVS', 'Call.VESP', 'Call.WCSP', 'Call.WIWA']\n",
    "true_names = names + ['Other']\n",
    "assigned_names = names + ['Unclassified']\n",
    "counts = pd.DataFrame(counts, index=true_names, columns=assigned_names)"
   ]
  },
  {
   "cell_type": "code",
   "execution_count": 3,
   "metadata": {
    "collapsed": false
   },
   "outputs": [
    {
     "data": {
      "text/html": [
       "<div>\n",
       "<table border=\"1\" class=\"dataframe\">\n",
       "  <thead>\n",
       "    <tr style=\"text-align: right;\">\n",
       "      <th></th>\n",
       "      <th>Call.CHSP</th>\n",
       "      <th>Call.DoubleUp</th>\n",
       "      <th>Call.SAVS</th>\n",
       "      <th>Call.VESP</th>\n",
       "      <th>Call.WCSP</th>\n",
       "      <th>Call.WIWA</th>\n",
       "      <th>Unclassified</th>\n",
       "    </tr>\n",
       "  </thead>\n",
       "  <tbody>\n",
       "    <tr>\n",
       "      <th>Call.CHSP</th>\n",
       "      <td>465</td>\n",
       "      <td>0</td>\n",
       "      <td>0</td>\n",
       "      <td>0</td>\n",
       "      <td>2</td>\n",
       "      <td>4</td>\n",
       "      <td>316</td>\n",
       "    </tr>\n",
       "    <tr>\n",
       "      <th>Call.DoubleUp</th>\n",
       "      <td>13</td>\n",
       "      <td>0</td>\n",
       "      <td>0</td>\n",
       "      <td>0</td>\n",
       "      <td>4</td>\n",
       "      <td>36</td>\n",
       "      <td>859</td>\n",
       "    </tr>\n",
       "    <tr>\n",
       "      <th>Call.SAVS</th>\n",
       "      <td>2</td>\n",
       "      <td>0</td>\n",
       "      <td>43</td>\n",
       "      <td>0</td>\n",
       "      <td>0</td>\n",
       "      <td>2</td>\n",
       "      <td>98</td>\n",
       "    </tr>\n",
       "    <tr>\n",
       "      <th>Call.VESP</th>\n",
       "      <td>10</td>\n",
       "      <td>0</td>\n",
       "      <td>0</td>\n",
       "      <td>4</td>\n",
       "      <td>5</td>\n",
       "      <td>2</td>\n",
       "      <td>238</td>\n",
       "    </tr>\n",
       "    <tr>\n",
       "      <th>Call.WCSP</th>\n",
       "      <td>23</td>\n",
       "      <td>0</td>\n",
       "      <td>0</td>\n",
       "      <td>0</td>\n",
       "      <td>76</td>\n",
       "      <td>0</td>\n",
       "      <td>193</td>\n",
       "    </tr>\n",
       "    <tr>\n",
       "      <th>Call.WIWA</th>\n",
       "      <td>5</td>\n",
       "      <td>0</td>\n",
       "      <td>1</td>\n",
       "      <td>0</td>\n",
       "      <td>0</td>\n",
       "      <td>875</td>\n",
       "      <td>288</td>\n",
       "    </tr>\n",
       "    <tr>\n",
       "      <th>Other</th>\n",
       "      <td>75</td>\n",
       "      <td>0</td>\n",
       "      <td>4</td>\n",
       "      <td>0</td>\n",
       "      <td>4</td>\n",
       "      <td>94</td>\n",
       "      <td>1626</td>\n",
       "    </tr>\n",
       "  </tbody>\n",
       "</table>\n",
       "</div>"
      ],
      "text/plain": [
       "               Call.CHSP  Call.DoubleUp  Call.SAVS  Call.VESP  Call.WCSP  \\\n",
       "Call.CHSP            465              0          0          0          2   \n",
       "Call.DoubleUp         13              0          0          0          4   \n",
       "Call.SAVS              2              0         43          0          0   \n",
       "Call.VESP             10              0          0          4          5   \n",
       "Call.WCSP             23              0          0          0         76   \n",
       "Call.WIWA              5              0          1          0          0   \n",
       "Other                 75              0          4          0          4   \n",
       "\n",
       "               Call.WIWA  Unclassified  \n",
       "Call.CHSP              4           316  \n",
       "Call.DoubleUp         36           859  \n",
       "Call.SAVS              2            98  \n",
       "Call.VESP              2           238  \n",
       "Call.WCSP              0           193  \n",
       "Call.WIWA            875           288  \n",
       "Other                 94          1626  "
      ]
     },
     "execution_count": 3,
     "metadata": {},
     "output_type": "execute_result"
    }
   ],
   "source": [
    "counts"
   ]
  },
  {
   "cell_type": "code",
   "execution_count": 4,
   "metadata": {
    "collapsed": false
   },
   "outputs": [],
   "source": [
    "c = np.array(counts.values, dtype='float')"
   ]
  },
  {
   "cell_type": "code",
   "execution_count": 5,
   "metadata": {
    "collapsed": true
   },
   "outputs": [],
   "source": [
    "def _get_rounded_percents(counts, totals):\n",
    "    percents = 100. * (counts.T / totals).T\n",
    "    return np.round(percents * 10) / 10"
   ]
  },
  {
   "cell_type": "markdown",
   "metadata": {},
   "source": [
    "### Show percentages of unclassified clips for each true class.\n",
    "\n",
    "This classifier is called *conservative* because is leaves many clips unclassified. The table below shows the percentage of clips of each true class that the cross validation classifiers declined to classify."
   ]
  },
  {
   "cell_type": "code",
   "execution_count": 6,
   "metadata": {
    "collapsed": false
   },
   "outputs": [],
   "source": [
    "unclassified_counts = c[:, -1]\n",
    "totals = c.sum(axis=1)\n",
    "percents = _get_rounded_percents(unclassified_counts, totals)\n",
    "percents = pd.DataFrame(percents, index=true_names, columns=['Unclassified'])"
   ]
  },
  {
   "cell_type": "code",
   "execution_count": 7,
   "metadata": {
    "collapsed": false
   },
   "outputs": [
    {
     "data": {
      "text/html": [
       "<div>\n",
       "<table border=\"1\" class=\"dataframe\">\n",
       "  <thead>\n",
       "    <tr style=\"text-align: right;\">\n",
       "      <th></th>\n",
       "      <th>Unclassified</th>\n",
       "    </tr>\n",
       "  </thead>\n",
       "  <tbody>\n",
       "    <tr>\n",
       "      <th>Call.CHSP</th>\n",
       "      <td>40.2</td>\n",
       "    </tr>\n",
       "    <tr>\n",
       "      <th>Call.DoubleUp</th>\n",
       "      <td>94.2</td>\n",
       "    </tr>\n",
       "    <tr>\n",
       "      <th>Call.SAVS</th>\n",
       "      <td>67.6</td>\n",
       "    </tr>\n",
       "    <tr>\n",
       "      <th>Call.VESP</th>\n",
       "      <td>91.9</td>\n",
       "    </tr>\n",
       "    <tr>\n",
       "      <th>Call.WCSP</th>\n",
       "      <td>66.1</td>\n",
       "    </tr>\n",
       "    <tr>\n",
       "      <th>Call.WIWA</th>\n",
       "      <td>24.6</td>\n",
       "    </tr>\n",
       "    <tr>\n",
       "      <th>Other</th>\n",
       "      <td>90.2</td>\n",
       "    </tr>\n",
       "  </tbody>\n",
       "</table>\n",
       "</div>"
      ],
      "text/plain": [
       "               Unclassified\n",
       "Call.CHSP              40.2\n",
       "Call.DoubleUp          94.2\n",
       "Call.SAVS              67.6\n",
       "Call.VESP              91.9\n",
       "Call.WCSP              66.1\n",
       "Call.WIWA              24.6\n",
       "Other                  90.2"
      ]
     },
     "execution_count": 7,
     "metadata": {},
     "output_type": "execute_result"
    }
   ],
   "source": [
    "percents"
   ]
  },
  {
   "cell_type": "markdown",
   "metadata": {},
   "source": [
    "### Disregarding unclassified clips, show assigned class percentages for each true class.\n",
    "\n",
    "There is one row in the table below for each true class and one column for each assigned class. Each number in the table is the percentage of clips of the true class to the left that were assigned to the class above. The percentages in each row sum to 100 (or about 100, since the percentages are rounded to the nearest tenth)."
   ]
  },
  {
   "cell_type": "code",
   "execution_count": 8,
   "metadata": {
    "collapsed": false
   },
   "outputs": [],
   "source": [
    "assigned_counts = c[:, :-1]\n",
    "totals = assigned_counts.sum(axis=1)\n",
    "percents = _get_rounded_percents(assigned_counts, totals)\n",
    "percents = pd.DataFrame(percents, index=true_names, columns=assigned_names[:-1])"
   ]
  },
  {
   "cell_type": "code",
   "execution_count": 9,
   "metadata": {
    "collapsed": false
   },
   "outputs": [
    {
     "data": {
      "text/html": [
       "<div>\n",
       "<table border=\"1\" class=\"dataframe\">\n",
       "  <thead>\n",
       "    <tr style=\"text-align: right;\">\n",
       "      <th></th>\n",
       "      <th>Call.CHSP</th>\n",
       "      <th>Call.DoubleUp</th>\n",
       "      <th>Call.SAVS</th>\n",
       "      <th>Call.VESP</th>\n",
       "      <th>Call.WCSP</th>\n",
       "      <th>Call.WIWA</th>\n",
       "    </tr>\n",
       "  </thead>\n",
       "  <tbody>\n",
       "    <tr>\n",
       "      <th>Call.CHSP</th>\n",
       "      <td>98.7</td>\n",
       "      <td>0</td>\n",
       "      <td>0.0</td>\n",
       "      <td>0</td>\n",
       "      <td>0.4</td>\n",
       "      <td>0.8</td>\n",
       "    </tr>\n",
       "    <tr>\n",
       "      <th>Call.DoubleUp</th>\n",
       "      <td>24.5</td>\n",
       "      <td>0</td>\n",
       "      <td>0.0</td>\n",
       "      <td>0</td>\n",
       "      <td>7.5</td>\n",
       "      <td>67.9</td>\n",
       "    </tr>\n",
       "    <tr>\n",
       "      <th>Call.SAVS</th>\n",
       "      <td>4.3</td>\n",
       "      <td>0</td>\n",
       "      <td>91.5</td>\n",
       "      <td>0</td>\n",
       "      <td>0.0</td>\n",
       "      <td>4.3</td>\n",
       "    </tr>\n",
       "    <tr>\n",
       "      <th>Call.VESP</th>\n",
       "      <td>47.6</td>\n",
       "      <td>0</td>\n",
       "      <td>0.0</td>\n",
       "      <td>19</td>\n",
       "      <td>23.8</td>\n",
       "      <td>9.5</td>\n",
       "    </tr>\n",
       "    <tr>\n",
       "      <th>Call.WCSP</th>\n",
       "      <td>23.2</td>\n",
       "      <td>0</td>\n",
       "      <td>0.0</td>\n",
       "      <td>0</td>\n",
       "      <td>76.8</td>\n",
       "      <td>0.0</td>\n",
       "    </tr>\n",
       "    <tr>\n",
       "      <th>Call.WIWA</th>\n",
       "      <td>0.6</td>\n",
       "      <td>0</td>\n",
       "      <td>0.1</td>\n",
       "      <td>0</td>\n",
       "      <td>0.0</td>\n",
       "      <td>99.3</td>\n",
       "    </tr>\n",
       "    <tr>\n",
       "      <th>Other</th>\n",
       "      <td>42.4</td>\n",
       "      <td>0</td>\n",
       "      <td>2.3</td>\n",
       "      <td>0</td>\n",
       "      <td>2.3</td>\n",
       "      <td>53.1</td>\n",
       "    </tr>\n",
       "  </tbody>\n",
       "</table>\n",
       "</div>"
      ],
      "text/plain": [
       "               Call.CHSP  Call.DoubleUp  Call.SAVS  Call.VESP  Call.WCSP  \\\n",
       "Call.CHSP           98.7              0        0.0          0        0.4   \n",
       "Call.DoubleUp       24.5              0        0.0          0        7.5   \n",
       "Call.SAVS            4.3              0       91.5          0        0.0   \n",
       "Call.VESP           47.6              0        0.0         19       23.8   \n",
       "Call.WCSP           23.2              0        0.0          0       76.8   \n",
       "Call.WIWA            0.6              0        0.1          0        0.0   \n",
       "Other               42.4              0        2.3          0        2.3   \n",
       "\n",
       "               Call.WIWA  \n",
       "Call.CHSP            0.8  \n",
       "Call.DoubleUp       67.9  \n",
       "Call.SAVS            4.3  \n",
       "Call.VESP            9.5  \n",
       "Call.WCSP            0.0  \n",
       "Call.WIWA           99.3  \n",
       "Other               53.1  "
      ]
     },
     "execution_count": 9,
     "metadata": {},
     "output_type": "execute_result"
    }
   ],
   "source": [
    "percents"
   ]
  },
  {
   "cell_type": "markdown",
   "metadata": {},
   "source": [
    "### Show true class percentages for each assigned class.\n",
    "\n",
    "There is one row in the table below for each assigned class and one column for each true class. Each number in the table is the percentage of clips assigned to the class to the left that are in fact of the true class above. The percentages in each row sum to 100 (or about 100, since the percentages are rounded to the nearest tenth).\n",
    "\n",
    "The `Call.DoubleUp` row is filled with `NaN` values since the classifier does not assign any clips to that class.\n",
    "\n",
    "This table is probably more telling than the previous one about the potential utility of the classifier. Each diagonal entry tells you the percentage of clips assigned to a class (i.e. the one to the left of the entry) by the cross validation classifiers that were truly of that class, and the off-diagonal entries give the percentages of clips assigned to a class that were actually of different classes. These are the approximate correct and incorrect classification rates that one might expect to see when browsing classified clips, assuming that the classifier generalizes well."
   ]
  },
  {
   "cell_type": "code",
   "execution_count": 10,
   "metadata": {
    "collapsed": true
   },
   "outputs": [],
   "source": [
    "true_counts = c.T\n",
    "totals = true_counts.sum(axis=1)\n",
    "percents = _get_rounded_percents(true_counts, totals)\n",
    "percents = pd.DataFrame(percents, index=assigned_names, columns=true_names)"
   ]
  },
  {
   "cell_type": "code",
   "execution_count": 11,
   "metadata": {
    "collapsed": false
   },
   "outputs": [
    {
     "data": {
      "text/html": [
       "<div>\n",
       "<table border=\"1\" class=\"dataframe\">\n",
       "  <thead>\n",
       "    <tr style=\"text-align: right;\">\n",
       "      <th></th>\n",
       "      <th>Call.CHSP</th>\n",
       "      <th>Call.DoubleUp</th>\n",
       "      <th>Call.SAVS</th>\n",
       "      <th>Call.VESP</th>\n",
       "      <th>Call.WCSP</th>\n",
       "      <th>Call.WIWA</th>\n",
       "      <th>Other</th>\n",
       "    </tr>\n",
       "  </thead>\n",
       "  <tbody>\n",
       "    <tr>\n",
       "      <th>Call.CHSP</th>\n",
       "      <td>78.4</td>\n",
       "      <td>2.2</td>\n",
       "      <td>0.3</td>\n",
       "      <td>1.7</td>\n",
       "      <td>3.9</td>\n",
       "      <td>0.8</td>\n",
       "      <td>12.6</td>\n",
       "    </tr>\n",
       "    <tr>\n",
       "      <th>Call.DoubleUp</th>\n",
       "      <td>NaN</td>\n",
       "      <td>NaN</td>\n",
       "      <td>NaN</td>\n",
       "      <td>NaN</td>\n",
       "      <td>NaN</td>\n",
       "      <td>NaN</td>\n",
       "      <td>NaN</td>\n",
       "    </tr>\n",
       "    <tr>\n",
       "      <th>Call.SAVS</th>\n",
       "      <td>0.0</td>\n",
       "      <td>0.0</td>\n",
       "      <td>89.6</td>\n",
       "      <td>0.0</td>\n",
       "      <td>0.0</td>\n",
       "      <td>2.1</td>\n",
       "      <td>8.3</td>\n",
       "    </tr>\n",
       "    <tr>\n",
       "      <th>Call.VESP</th>\n",
       "      <td>0.0</td>\n",
       "      <td>0.0</td>\n",
       "      <td>0.0</td>\n",
       "      <td>100.0</td>\n",
       "      <td>0.0</td>\n",
       "      <td>0.0</td>\n",
       "      <td>0.0</td>\n",
       "    </tr>\n",
       "    <tr>\n",
       "      <th>Call.WCSP</th>\n",
       "      <td>2.2</td>\n",
       "      <td>4.4</td>\n",
       "      <td>0.0</td>\n",
       "      <td>5.5</td>\n",
       "      <td>83.5</td>\n",
       "      <td>0.0</td>\n",
       "      <td>4.4</td>\n",
       "    </tr>\n",
       "    <tr>\n",
       "      <th>Call.WIWA</th>\n",
       "      <td>0.4</td>\n",
       "      <td>3.6</td>\n",
       "      <td>0.2</td>\n",
       "      <td>0.2</td>\n",
       "      <td>0.0</td>\n",
       "      <td>86.4</td>\n",
       "      <td>9.3</td>\n",
       "    </tr>\n",
       "    <tr>\n",
       "      <th>Unclassified</th>\n",
       "      <td>8.7</td>\n",
       "      <td>23.7</td>\n",
       "      <td>2.7</td>\n",
       "      <td>6.6</td>\n",
       "      <td>5.3</td>\n",
       "      <td>8.0</td>\n",
       "      <td>44.9</td>\n",
       "    </tr>\n",
       "  </tbody>\n",
       "</table>\n",
       "</div>"
      ],
      "text/plain": [
       "               Call.CHSP  Call.DoubleUp  Call.SAVS  Call.VESP  Call.WCSP  \\\n",
       "Call.CHSP           78.4            2.2        0.3        1.7        3.9   \n",
       "Call.DoubleUp        NaN            NaN        NaN        NaN        NaN   \n",
       "Call.SAVS            0.0            0.0       89.6        0.0        0.0   \n",
       "Call.VESP            0.0            0.0        0.0      100.0        0.0   \n",
       "Call.WCSP            2.2            4.4        0.0        5.5       83.5   \n",
       "Call.WIWA            0.4            3.6        0.2        0.2        0.0   \n",
       "Unclassified         8.7           23.7        2.7        6.6        5.3   \n",
       "\n",
       "               Call.WIWA  Other  \n",
       "Call.CHSP            0.8   12.6  \n",
       "Call.DoubleUp        NaN    NaN  \n",
       "Call.SAVS            2.1    8.3  \n",
       "Call.VESP            0.0    0.0  \n",
       "Call.WCSP            0.0    4.4  \n",
       "Call.WIWA           86.4    9.3  \n",
       "Unclassified         8.0   44.9  "
      ]
     },
     "execution_count": 11,
     "metadata": {},
     "output_type": "execute_result"
    }
   ],
   "source": [
    "percents"
   ]
  },
  {
   "cell_type": "code",
   "execution_count": null,
   "metadata": {
    "collapsed": true
   },
   "outputs": [],
   "source": []
  }
 ],
 "metadata": {
  "kernelspec": {
   "display_name": "Python 2",
   "language": "python",
   "name": "python2"
  },
  "language_info": {
   "codemirror_mode": {
    "name": "ipython",
    "version": 2
   },
   "file_extension": ".py",
   "mimetype": "text/x-python",
   "name": "python",
   "nbconvert_exporter": "python",
   "pygments_lexer": "ipython2",
   "version": "2.7.11"
  }
 },
 "nbformat": 4,
 "nbformat_minor": 0
}
